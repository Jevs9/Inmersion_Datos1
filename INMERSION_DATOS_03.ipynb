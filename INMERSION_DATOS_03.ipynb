{
  "nbformat": 4,
  "nbformat_minor": 0,
  "metadata": {
    "colab": {
      "provenance": [],
      "mount_file_id": "12usbw_gYXloIjR-sjisHJYV7jcFhQK0E",
      "authorship_tag": "ABX9TyMlJZ2FpQS/kALoUYGKXt+C",
      "include_colab_link": true
    },
    "kernelspec": {
      "name": "python3",
      "display_name": "Python 3"
    },
    "language_info": {
      "name": "python"
    }
  },
  "cells": [
    {
      "cell_type": "markdown",
      "metadata": {
        "id": "view-in-github",
        "colab_type": "text"
      },
      "source": [
        "<a href=\"https://colab.research.google.com/github/Jevs9/Inmersion_Datos1/blob/main/INMERSION_DATOS_03.ipynb\" target=\"_parent\"><img src=\"https://colab.research.google.com/assets/colab-badge.svg\" alt=\"Open In Colab\"/></a>"
      ]
    },
    {
      "cell_type": "markdown",
      "source": [
        "#**CLASE 03** <br>\n",
        "Boxplot\n",
        "Ver final del archivo inmersión_datos_02"
      ],
      "metadata": {
        "id": "jjRokjsHskW8"
      }
    },
    {
      "cell_type": "markdown",
      "source": [
        "Explora más sobre los Outliers (valores fuera del rango típico) en este interesante contenido https://es.wikipedia.org/wiki/Valor_at%C3%ADpico"
      ],
      "metadata": {
        "id": "KhboKJNCNMDf"
      }
    },
    {
      "cell_type": "markdown",
      "source": [
        "Para poder trabajar con las bases de datos de DANE tenemos que especificar que el separador es punto y coma y el tipo de codificación que utiliza (latin-1)"
      ],
      "metadata": {
        "id": "obwFSK_yQN7r"
      }
    },
    {
      "cell_type": "code",
      "source": [
        "from google.colab import drive\n",
        "drive.mount('/content/drive')\n",
        "import pandas as pd\n",
        "\n",
        "datos_raw = pd.read_csv('/content/drive/MyDrive/CURSOS/ALURA/InmersionPython/3_clase03/archivos-dane/archivos-dane/Identificación (Capítulo A).csv', sep=';', encoding = 'latin-1')\n",
        "datos_raw.head()"
      ],
      "metadata": {
        "colab": {
          "base_uri": "https://localhost:8080/",
          "height": 268
        },
        "id": "SQjM_geaNP9u",
        "outputId": "8f4383e1-604c-4673-a51d-6d53766f7263"
      },
      "execution_count": null,
      "outputs": [
        {
          "output_type": "stream",
          "name": "stdout",
          "text": [
            "Drive already mounted at /content/drive; to attempt to forcibly remount, call drive.mount(\"/content/drive\", force_remount=True).\n"
          ]
        },
        {
          "output_type": "execute_result",
          "data": {
            "text/plain": [
              "   DIRECTORIO  DPTO   MPIO  CLASE  COD_LOCALIDAD NOMBRE_LOCALIDAD  \\\n",
              "0   3004346.0    11  11001      1            3.0         Santa Fe   \n",
              "1   3004347.0    11  11001      1           14.0     Los Mártires   \n",
              "2   3004348.0    11  11001      1            3.0         Santa Fe   \n",
              "3   3004349.0    11  11001      1            1.0          Usaquén   \n",
              "4   3004350.0    11  11001      1            1.0          Usaquén   \n",
              "\n",
              "   COD_UPZ_GRUPO                        NOMBRE_UPZ_GRUPO  ESTRATO2021  \\\n",
              "0          814.0  SANTA FE: Las Nieves + Sagrado Corazón     11001187   \n",
              "1           37.0                            Santa Isabel     11001162   \n",
              "2          814.0  SANTA FE: Las Nieves + Sagrado Corazón     11001187   \n",
              "3          803.0   USAQUÉN: Country Club + Santa Bárbara     11001176   \n",
              "4          803.0   USAQUÉN: Country Club + Santa Bárbara     11001176   \n",
              "\n",
              "                           NOMBRE_ESTRATO             FEX_C  \n",
              "0  SANTA FE: Las Nieves + Sagrado Corazón  13,2266692027239  \n",
              "1                            Santa Isabel  17,8555889419101  \n",
              "2  SANTA FE: Las Nieves + Sagrado Corazón  10,0286103658331  \n",
              "3   USAQUÉN: Country Club + Santa Bárbara  28,6502122142802  \n",
              "4   USAQUÉN: Country Club + Santa Bárbara  24,4684068319009  "
            ],
            "text/html": [
              "\n",
              "  <div id=\"df-632b21c7-7d29-4065-bc4c-aa21b055bca2\">\n",
              "    <div class=\"colab-df-container\">\n",
              "      <div>\n",
              "<style scoped>\n",
              "    .dataframe tbody tr th:only-of-type {\n",
              "        vertical-align: middle;\n",
              "    }\n",
              "\n",
              "    .dataframe tbody tr th {\n",
              "        vertical-align: top;\n",
              "    }\n",
              "\n",
              "    .dataframe thead th {\n",
              "        text-align: right;\n",
              "    }\n",
              "</style>\n",
              "<table border=\"1\" class=\"dataframe\">\n",
              "  <thead>\n",
              "    <tr style=\"text-align: right;\">\n",
              "      <th></th>\n",
              "      <th>DIRECTORIO</th>\n",
              "      <th>DPTO</th>\n",
              "      <th>MPIO</th>\n",
              "      <th>CLASE</th>\n",
              "      <th>COD_LOCALIDAD</th>\n",
              "      <th>NOMBRE_LOCALIDAD</th>\n",
              "      <th>COD_UPZ_GRUPO</th>\n",
              "      <th>NOMBRE_UPZ_GRUPO</th>\n",
              "      <th>ESTRATO2021</th>\n",
              "      <th>NOMBRE_ESTRATO</th>\n",
              "      <th>FEX_C</th>\n",
              "    </tr>\n",
              "  </thead>\n",
              "  <tbody>\n",
              "    <tr>\n",
              "      <th>0</th>\n",
              "      <td>3004346.0</td>\n",
              "      <td>11</td>\n",
              "      <td>11001</td>\n",
              "      <td>1</td>\n",
              "      <td>3.0</td>\n",
              "      <td>Santa Fe</td>\n",
              "      <td>814.0</td>\n",
              "      <td>SANTA FE: Las Nieves + Sagrado Corazón</td>\n",
              "      <td>11001187</td>\n",
              "      <td>SANTA FE: Las Nieves + Sagrado Corazón</td>\n",
              "      <td>13,2266692027239</td>\n",
              "    </tr>\n",
              "    <tr>\n",
              "      <th>1</th>\n",
              "      <td>3004347.0</td>\n",
              "      <td>11</td>\n",
              "      <td>11001</td>\n",
              "      <td>1</td>\n",
              "      <td>14.0</td>\n",
              "      <td>Los Mártires</td>\n",
              "      <td>37.0</td>\n",
              "      <td>Santa Isabel</td>\n",
              "      <td>11001162</td>\n",
              "      <td>Santa Isabel</td>\n",
              "      <td>17,8555889419101</td>\n",
              "    </tr>\n",
              "    <tr>\n",
              "      <th>2</th>\n",
              "      <td>3004348.0</td>\n",
              "      <td>11</td>\n",
              "      <td>11001</td>\n",
              "      <td>1</td>\n",
              "      <td>3.0</td>\n",
              "      <td>Santa Fe</td>\n",
              "      <td>814.0</td>\n",
              "      <td>SANTA FE: Las Nieves + Sagrado Corazón</td>\n",
              "      <td>11001187</td>\n",
              "      <td>SANTA FE: Las Nieves + Sagrado Corazón</td>\n",
              "      <td>10,0286103658331</td>\n",
              "    </tr>\n",
              "    <tr>\n",
              "      <th>3</th>\n",
              "      <td>3004349.0</td>\n",
              "      <td>11</td>\n",
              "      <td>11001</td>\n",
              "      <td>1</td>\n",
              "      <td>1.0</td>\n",
              "      <td>Usaquén</td>\n",
              "      <td>803.0</td>\n",
              "      <td>USAQUÉN: Country Club + Santa Bárbara</td>\n",
              "      <td>11001176</td>\n",
              "      <td>USAQUÉN: Country Club + Santa Bárbara</td>\n",
              "      <td>28,6502122142802</td>\n",
              "    </tr>\n",
              "    <tr>\n",
              "      <th>4</th>\n",
              "      <td>3004350.0</td>\n",
              "      <td>11</td>\n",
              "      <td>11001</td>\n",
              "      <td>1</td>\n",
              "      <td>1.0</td>\n",
              "      <td>Usaquén</td>\n",
              "      <td>803.0</td>\n",
              "      <td>USAQUÉN: Country Club + Santa Bárbara</td>\n",
              "      <td>11001176</td>\n",
              "      <td>USAQUÉN: Country Club + Santa Bárbara</td>\n",
              "      <td>24,4684068319009</td>\n",
              "    </tr>\n",
              "  </tbody>\n",
              "</table>\n",
              "</div>\n",
              "      <button class=\"colab-df-convert\" onclick=\"convertToInteractive('df-632b21c7-7d29-4065-bc4c-aa21b055bca2')\"\n",
              "              title=\"Convert this dataframe to an interactive table.\"\n",
              "              style=\"display:none;\">\n",
              "        \n",
              "  <svg xmlns=\"http://www.w3.org/2000/svg\" height=\"24px\"viewBox=\"0 0 24 24\"\n",
              "       width=\"24px\">\n",
              "    <path d=\"M0 0h24v24H0V0z\" fill=\"none\"/>\n",
              "    <path d=\"M18.56 5.44l.94 2.06.94-2.06 2.06-.94-2.06-.94-.94-2.06-.94 2.06-2.06.94zm-11 1L8.5 8.5l.94-2.06 2.06-.94-2.06-.94L8.5 2.5l-.94 2.06-2.06.94zm10 10l.94 2.06.94-2.06 2.06-.94-2.06-.94-.94-2.06-.94 2.06-2.06.94z\"/><path d=\"M17.41 7.96l-1.37-1.37c-.4-.4-.92-.59-1.43-.59-.52 0-1.04.2-1.43.59L10.3 9.45l-7.72 7.72c-.78.78-.78 2.05 0 2.83L4 21.41c.39.39.9.59 1.41.59.51 0 1.02-.2 1.41-.59l7.78-7.78 2.81-2.81c.8-.78.8-2.07 0-2.86zM5.41 20L4 18.59l7.72-7.72 1.47 1.35L5.41 20z\"/>\n",
              "  </svg>\n",
              "      </button>\n",
              "      \n",
              "  <style>\n",
              "    .colab-df-container {\n",
              "      display:flex;\n",
              "      flex-wrap:wrap;\n",
              "      gap: 12px;\n",
              "    }\n",
              "\n",
              "    .colab-df-convert {\n",
              "      background-color: #E8F0FE;\n",
              "      border: none;\n",
              "      border-radius: 50%;\n",
              "      cursor: pointer;\n",
              "      display: none;\n",
              "      fill: #1967D2;\n",
              "      height: 32px;\n",
              "      padding: 0 0 0 0;\n",
              "      width: 32px;\n",
              "    }\n",
              "\n",
              "    .colab-df-convert:hover {\n",
              "      background-color: #E2EBFA;\n",
              "      box-shadow: 0px 1px 2px rgba(60, 64, 67, 0.3), 0px 1px 3px 1px rgba(60, 64, 67, 0.15);\n",
              "      fill: #174EA6;\n",
              "    }\n",
              "\n",
              "    [theme=dark] .colab-df-convert {\n",
              "      background-color: #3B4455;\n",
              "      fill: #D2E3FC;\n",
              "    }\n",
              "\n",
              "    [theme=dark] .colab-df-convert:hover {\n",
              "      background-color: #434B5C;\n",
              "      box-shadow: 0px 1px 3px 1px rgba(0, 0, 0, 0.15);\n",
              "      filter: drop-shadow(0px 1px 2px rgba(0, 0, 0, 0.3));\n",
              "      fill: #FFFFFF;\n",
              "    }\n",
              "  </style>\n",
              "\n",
              "      <script>\n",
              "        const buttonEl =\n",
              "          document.querySelector('#df-632b21c7-7d29-4065-bc4c-aa21b055bca2 button.colab-df-convert');\n",
              "        buttonEl.style.display =\n",
              "          google.colab.kernel.accessAllowed ? 'block' : 'none';\n",
              "\n",
              "        async function convertToInteractive(key) {\n",
              "          const element = document.querySelector('#df-632b21c7-7d29-4065-bc4c-aa21b055bca2');\n",
              "          const dataTable =\n",
              "            await google.colab.kernel.invokeFunction('convertToInteractive',\n",
              "                                                     [key], {});\n",
              "          if (!dataTable) return;\n",
              "\n",
              "          const docLinkHtml = 'Like what you see? Visit the ' +\n",
              "            '<a target=\"_blank\" href=https://colab.research.google.com/notebooks/data_table.ipynb>data table notebook</a>'\n",
              "            + ' to learn more about interactive tables.';\n",
              "          element.innerHTML = '';\n",
              "          dataTable['output_type'] = 'display_data';\n",
              "          await google.colab.output.renderOutput(dataTable, element);\n",
              "          const docLink = document.createElement('div');\n",
              "          docLink.innerHTML = docLinkHtml;\n",
              "          element.appendChild(docLink);\n",
              "        }\n",
              "      </script>\n",
              "    </div>\n",
              "  </div>\n",
              "  "
            ]
          },
          "metadata": {},
          "execution_count": 5
        }
      ]
    },
    {
      "cell_type": "code",
      "source": [
        "datos_raw.shape"
      ],
      "metadata": {
        "colab": {
          "base_uri": "https://localhost:8080/"
        },
        "id": "v5aSfRSYPn0i",
        "outputId": "0c43e023-8eee-46b6-fb1f-6105b1a28e19"
      },
      "execution_count": null,
      "outputs": [
        {
          "output_type": "execute_result",
          "data": {
            "text/plain": [
              "(106467, 11)"
            ]
          },
          "metadata": {},
          "execution_count": 6
        }
      ]
    },
    {
      "cell_type": "markdown",
      "source": [
        "Debido a que la base da datos contiene datos del área metropolitana de la capital de Bogotá se va a filtrar la base solo dejando los datos que corresponden a Bogotá"
      ],
      "metadata": {
        "id": "GgeKynFYRiSt"
      }
    },
    {
      "cell_type": "code",
      "source": [
        "datos_raw = datos_raw.loc[datos_raw.MPIO == 11001]\n",
        "datos_raw.shape"
      ],
      "metadata": {
        "colab": {
          "base_uri": "https://localhost:8080/"
        },
        "id": "pK48j18SRCCC",
        "outputId": "d4538c47-3299-4370-cd7b-ed9a04672029"
      },
      "execution_count": null,
      "outputs": [
        {
          "output_type": "execute_result",
          "data": {
            "text/plain": [
              "(86504, 11)"
            ]
          },
          "metadata": {},
          "execution_count": 7
        }
      ]
    },
    {
      "cell_type": "code",
      "source": [
        "datos_b = pd.read_csv('/content/drive/MyDrive/CURSOS/ALURA/InmersionPython/3_clase03/archivos-dane/archivos-dane/Datos de la vivenda y su entorno (Capítulo B).csv', sep=';', encoding = 'latin-1')\n",
        "datos_c = pd.read_csv('/content/drive/MyDrive/CURSOS/ALURA/InmersionPython/3_clase03/archivos-dane/archivos-dane/Condiciones habitacionales del hogar (Capítulo C).csv', sep=';', encoding = 'latin-1')\n",
        "datos_e = pd.read_csv('/content/drive/MyDrive/CURSOS/ALURA/InmersionPython/3_clase03/archivos-dane/archivos-dane/Composición del hogar y demografía (Capítulo E).csv', sep=';', encoding = 'latin-1')\n",
        "datos_h = pd.read_csv('/content/drive/MyDrive/CURSOS/ALURA/InmersionPython/3_clase03/archivos-dane/archivos-dane/Educación (Capítulo H).csv', sep=';', encoding = 'latin-1')\n",
        "datos_l = pd.read_csv('/content/drive/MyDrive/CURSOS/ALURA/InmersionPython/3_clase03/archivos-dane/archivos-dane/Percepción sobre las condiciones de vida y el desempeño institucional (Capítulo L).csv', sep=';', encoding = 'latin-1')\n",
        "datos_k = pd.read_csv('/content/drive/MyDrive/CURSOS/ALURA/InmersionPython/3_clase03/archivos-dane/archivos-dane/Fuerza de trabajo (Capítulo K).csv', sep=';', encoding = 'latin-1')"
      ],
      "metadata": {
        "colab": {
          "base_uri": "https://localhost:8080/"
        },
        "id": "TdY6d5KwRglz",
        "outputId": "e5f97d99-4637-4e6e-f1b0-27ed3600d8f9"
      },
      "execution_count": null,
      "outputs": [
        {
          "output_type": "stream",
          "name": "stderr",
          "text": [
            "<ipython-input-9-b6f718a72678>:2: DtypeWarning: Columns (4,25,30,47) have mixed types. Specify dtype option on import or set low_memory=False.\n",
            "  datos_c = pd.read_csv('/content/drive/MyDrive/CURSOS/ALURA/InmersionPython/3_clase03/archivos-dane/archivos-dane/Condiciones habitacionales del hogar (Capítulo C).csv', sep=';', encoding = 'latin-1')\n",
            "<ipython-input-9-b6f718a72678>:3: DtypeWarning: Columns (66) have mixed types. Specify dtype option on import or set low_memory=False.\n",
            "  datos_e = pd.read_csv('/content/drive/MyDrive/CURSOS/ALURA/InmersionPython/3_clase03/archivos-dane/archivos-dane/Composición del hogar y demografía (Capítulo E).csv', sep=';', encoding = 'latin-1')\n",
            "<ipython-input-9-b6f718a72678>:4: DtypeWarning: Columns (81) have mixed types. Specify dtype option on import or set low_memory=False.\n",
            "  datos_h = pd.read_csv('/content/drive/MyDrive/CURSOS/ALURA/InmersionPython/3_clase03/archivos-dane/archivos-dane/Educación (Capítulo H).csv', sep=';', encoding = 'latin-1')\n",
            "<ipython-input-9-b6f718a72678>:5: DtypeWarning: Columns (114,117,122,126,164,166,168) have mixed types. Specify dtype option on import or set low_memory=False.\n",
            "  datos_l = pd.read_csv('/content/drive/MyDrive/CURSOS/ALURA/InmersionPython/3_clase03/archivos-dane/archivos-dane/Percepción sobre las condiciones de vida y el desempeño institucional (Capítulo L).csv', sep=';', encoding = 'latin-1')\n",
            "<ipython-input-9-b6f718a72678>:6: DtypeWarning: Columns (27,58,60,62,64,66,104,114,120,124,126,129,131,133) have mixed types. Specify dtype option on import or set low_memory=False.\n",
            "  datos_k = pd.read_csv('/content/drive/MyDrive/CURSOS/ALURA/InmersionPython/3_clase03/archivos-dane/archivos-dane/Fuerza de trabajo (Capítulo K).csv', sep=';', encoding = 'latin-1')\n"
          ]
        }
      ]
    },
    {
      "cell_type": "markdown",
      "source": [
        "Se va agrupar toda esta información en un solo dataframe, para esto se utiliza merge.\n",
        "hay que buscar el elemento común entre las dos bases de datos, en este caso es DIRECTORIO y especificar hacia que lado quiero que se introduzcan mis nuevos datos, en este caso hacia la izquierda."
      ],
      "metadata": {
        "id": "iFs2N9D3TJMl"
      }
    },
    {
      "cell_type": "code",
      "source": [
        "datos_dane = pd.merge(datos_raw, datos_b, on = 'DIRECTORIO', how = 'left')\n",
        "datos_dane.shape"
      ],
      "metadata": {
        "colab": {
          "base_uri": "https://localhost:8080/"
        },
        "id": "3YXLYEeYTR2E",
        "outputId": "fd5d958f-f323-44c8-e5e5-f441840864dd"
      },
      "execution_count": null,
      "outputs": [
        {
          "output_type": "execute_result",
          "data": {
            "text/plain": [
              "(86504, 73)"
            ]
          },
          "metadata": {},
          "execution_count": 11
        }
      ]
    },
    {
      "cell_type": "markdown",
      "source": [
        "Se continuan agregando las otras bases de datos"
      ],
      "metadata": {
        "id": "wTfb9KvSUHAl"
      }
    },
    {
      "cell_type": "code",
      "source": [
        "datos_dane = pd.merge(datos_dane, datos_c, on = 'DIRECTORIO', how = 'left')\n",
        "datos_dane.shape"
      ],
      "metadata": {
        "colab": {
          "base_uri": "https://localhost:8080/"
        },
        "id": "qoZP9agUULh9",
        "outputId": "8a2aa286-3daa-4d46-fcb9-781217c0fee6"
      },
      "execution_count": null,
      "outputs": [
        {
          "output_type": "execute_result",
          "data": {
            "text/plain": [
              "(87061, 214)"
            ]
          },
          "metadata": {},
          "execution_count": 12
        }
      ]
    },
    {
      "cell_type": "code",
      "source": [
        "datos_dane = pd.merge(datos_dane, datos_e, on = 'DIRECTORIO', how = 'left')\n",
        "datos_dane.shape"
      ],
      "metadata": {
        "colab": {
          "base_uri": "https://localhost:8080/"
        },
        "id": "vr7nMcN3UPdc",
        "outputId": "6ee9a369-10a3-4eee-933f-f0f5638410e5"
      },
      "execution_count": null,
      "outputs": [
        {
          "output_type": "stream",
          "name": "stderr",
          "text": [
            "<ipython-input-13-d044ea459036>:1: FutureWarning: Passing 'suffixes' which cause duplicate columns {'FEX_C_x'} in the result is deprecated and will raise a MergeError in a future version.\n",
            "  datos_dane = pd.merge(datos_dane, datos_e, on = 'DIRECTORIO', how = 'left')\n"
          ]
        },
        {
          "output_type": "execute_result",
          "data": {
            "text/plain": [
              "(238559, 281)"
            ]
          },
          "metadata": {},
          "execution_count": 13
        }
      ]
    },
    {
      "cell_type": "code",
      "source": [
        "datos_dane.info()"
      ],
      "metadata": {
        "colab": {
          "base_uri": "https://localhost:8080/"
        },
        "id": "XjyqmcLUUTic",
        "outputId": "41a2e554-64d0-48c4-fbe1-606dd68b0829"
      },
      "execution_count": null,
      "outputs": [
        {
          "output_type": "stream",
          "name": "stdout",
          "text": [
            "<class 'pandas.core.frame.DataFrame'>\n",
            "Int64Index: 238559 entries, 0 to 238558\n",
            "Columns: 281 entries, DIRECTORIO to FEX_C_y\n",
            "dtypes: float64(140), int64(126), object(15)\n",
            "memory usage: 513.3+ MB\n"
          ]
        }
      ]
    },
    {
      "cell_type": "code",
      "source": [],
      "metadata": {
        "id": "wUKssZsBdG7t"
      },
      "execution_count": null,
      "outputs": []
    }
  ]
}